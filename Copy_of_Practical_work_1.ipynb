{
  "nbformat": 4,
  "nbformat_minor": 0,
  "metadata": {
    "colab": {
      "provenance": [],
      "authorship_tag": "ABX9TyMa52NoC/G0YZ9Z0RFNJOU0",
      "include_colab_link": true
    },
    "kernelspec": {
      "name": "python3",
      "display_name": "Python 3"
    },
    "language_info": {
      "name": "python"
    }
  },
  "cells": [
    {
      "cell_type": "markdown",
      "metadata": {
        "id": "view-in-github",
        "colab_type": "text"
      },
      "source": [
        "<a href=\"https://colab.research.google.com/github/Shamsullah17/Shamsullah-Arab/blob/main/Copy_of_Practical_work_1.ipynb\" target=\"_parent\"><img src=\"https://colab.research.google.com/assets/colab-badge.svg\" alt=\"Open In Colab\"/></a>"
      ]
    },
    {
      "cell_type": "code",
      "execution_count": null,
      "metadata": {
        "colab": {
          "base_uri": "https://localhost:8080/"
        },
        "id": "7DogXCtG30cA",
        "outputId": "b1a8656a-676e-487b-ab57-33a39f8412bf"
      },
      "outputs": [
        {
          "output_type": "stream",
          "name": "stdout",
          "text": [
            "Processing text 1:\n",
            "1. Tokenization - First 20 tokens: ['Your', 'first', 'text', 'here']\n",
            "2. Spelling corrections - Initial 20 corrected tokens: ['your', 'first', 'text', 'here']\n",
            "3. PoS tags for each corrected token: [('your', 'PRP$'), ('first', 'JJ'), ('text', 'NN'), ('here', 'RB')]\n",
            "4. Stop words removed - Initial 20 tokens: ['first', 'text']\n",
            "5. Lemmatization - Initial 20 tokens: ['first', 'text']\n",
            "6. Sentence boundaries detected - Total number of sentences: 1\n",
            "==================================================\n",
            "Processing text 2:\n",
            "1. Tokenization - First 20 tokens: ['Your', 'second', 'text', 'here']\n",
            "2. Spelling corrections - Initial 20 corrected tokens: ['your', 'second', 'text', 'here']\n",
            "3. PoS tags for each corrected token: [('your', 'PRP$'), ('second', 'JJ'), ('text', 'NN'), ('here', 'RB')]\n",
            "4. Stop words removed - Initial 20 tokens: ['second', 'text']\n",
            "5. Lemmatization - Initial 20 tokens: ['second', 'text']\n",
            "6. Sentence boundaries detected - Total number of sentences: 1\n",
            "==================================================\n",
            "Bag of Words representation - 10 most frequent terms:\n",
            "Text 1: [('first', 1), ('here', 1), ('text', 1), ('your', 1), ('second', 0)]\n",
            "Text 2: [('here', 1), ('second', 1), ('text', 1), ('your', 1), ('first', 0)]\n",
            "\n",
            "TF-IDF representation - 10 most frequent terms:\n",
            "Text 1: [('first', 0.6300993445179441), ('here', 0.44832087319911734), ('text', 0.44832087319911734), ('your', 0.44832087319911734), ('second', 0.0)]\n",
            "Text 2: [('second', 0.6300993445179441), ('here', 0.44832087319911734), ('text', 0.44832087319911734), ('your', 0.44832087319911734), ('first', 0.0)]\n"
          ]
        },
        {
          "output_type": "stream",
          "name": "stderr",
          "text": [
            "[nltk_data] Downloading package punkt to /root/nltk_data...\n",
            "[nltk_data]   Package punkt is already up-to-date!\n",
            "[nltk_data] Downloading package stopwords to /root/nltk_data...\n",
            "[nltk_data]   Package stopwords is already up-to-date!\n",
            "[nltk_data] Downloading package wordnet to /root/nltk_data...\n",
            "[nltk_data]   Package wordnet is already up-to-date!\n",
            "[nltk_data] Downloading package averaged_perceptron_tagger to\n",
            "[nltk_data]     /root/nltk_data...\n",
            "[nltk_data]   Package averaged_perceptron_tagger is already up-to-\n",
            "[nltk_data]       date!\n"
          ]
        }
      ],
      "source": [
        "import nltk\n",
        "from nltk.tokenize import word_tokenize, sent_tokenize\n",
        "from nltk.corpus import stopwords\n",
        "from nltk.stem import WordNetLemmatizer\n",
        "from nltk import pos_tag\n",
        "from sklearn.feature_extraction.text import CountVectorizer, TfidfVectorizer\n",
        "import pandas as pd\n",
        "\n",
        "nltk.download('punkt')\n",
        "nltk.download('stopwords')\n",
        "nltk.download('wordnet')\n",
        "nltk.download('averaged_perceptron_tagger')\n",
        "\n",
        "stop_words = set(stopwords.words('english'))\n",
        "\n",
        "lemmatizer = WordNetLemmatizer()\n",
        "\n",
        "def correct_spelling(tokens):\n",
        "\n",
        "    return [token.lower() for token in tokens]\n",
        "\n",
        "text1 = \"\"\"Your first text here\"\"\"\n",
        "text2 = \"\"\"Your second text here\"\"\"\n",
        "\n",
        "texts = [text1, text2]\n",
        "for i, text in enumerate(texts, start=1):\n",
        "    print(f\"Processing text {i}:\")\n",
        "\n",
        "\n",
        "    tokens = word_tokenize(text)\n",
        "    print(\"1. Tokenization - First 20 tokens:\", tokens[:20])\n",
        "\n",
        "\n",
        "    corrected_tokens = correct_spelling(tokens)\n",
        "    print(\"2. Spelling corrections - Initial 20 corrected tokens:\", corrected_tokens[:20])\n",
        "\n",
        "\n",
        "    pos_tags = pos_tag(corrected_tokens)\n",
        "    print(\"3. PoS tags for each corrected token:\", pos_tags[:20])\n",
        "\n",
        "    filtered_tokens = [token for token in corrected_tokens if token.lower() not in stop_words]\n",
        "    print(\"4. Stop words removed - Initial 20 tokens:\", filtered_tokens[:20])\n",
        "\n",
        "    stemmed_tokens = [lemmatizer.lemmatize(token) for token in filtered_tokens]\n",
        "    print(\"5. Lemmatization - Initial 20 tokens:\", stemmed_tokens[:20])\n",
        "\n",
        "    sentences = sent_tokenize(text)\n",
        "    print(\"6. Sentence boundaries detected - Total number of sentences:\", len(sentences))\n",
        "    print(\"=\"*50)\n",
        "\n",
        "vectorizer = CountVectorizer()\n",
        "tfidf_vectorizer = TfidfVectorizer()\n",
        "combined_text = [text1, text2]\n",
        "\n",
        "bow_matrix = vectorizer.fit_transform(combined_text)\n",
        "bow_terms = vectorizer.get_feature_names_out()\n",
        "bow_frequencies = bow_matrix.toarray()\n",
        "print(\"Bag of Words representation - 10 most frequent terms:\")\n",
        "for i in range(len(combined_text)):\n",
        "    print(f\"Text {i+1}: {sorted(zip(bow_terms, bow_frequencies[i]), key=lambda x: -x[1])[:10]}\")\n",
        "\n",
        "tfidf_matrix = tfidf_vectorizer.fit_transform(combined_text)\n",
        "tfidf_terms = tfidf_vectorizer.get_feature_names_out()\n",
        "tfidf_scores = tfidf_matrix.toarray()\n",
        "print(\"\\nTF-IDF representation - 10 most frequent terms:\")\n",
        "for i in range(len(combined_text)):\n",
        "    print(f\"Text {i+1}: {sorted(zip(tfidf_terms, tfidf_scores[i]), key=lambda x: -x[1])[:10]}\")"
      ]
    }
  ]
}